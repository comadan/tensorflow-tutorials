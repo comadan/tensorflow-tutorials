{
 "cells": [
  {
   "cell_type": "code",
   "execution_count": 1,
   "metadata": {
    "collapsed": true
   },
   "outputs": [],
   "source": [
    "import tensorflow as tf\n",
    "import numpy as np"
   ]
  },
  {
   "cell_type": "code",
   "execution_count": 2,
   "metadata": {
    "collapsed": true
   },
   "outputs": [],
   "source": [
    "from sklearn import datasets"
   ]
  },
  {
   "cell_type": "markdown",
   "metadata": {},
   "source": [
    "---\n",
    "\n",
    "When we are working with variable length sequences, we might need to select a specific slice from a sequence. We can use flattened tensors and gather operations to get select the output at a specific timestep"
   ]
  },
  {
   "cell_type": "code",
   "execution_count": 3,
   "metadata": {
    "collapsed": true
   },
   "outputs": [],
   "source": [
    "sess = tf.InteractiveSession()"
   ]
  },
  {
   "cell_type": "code",
   "execution_count": 75,
   "metadata": {
    "collapsed": true
   },
   "outputs": [],
   "source": [
    "batch_size = 5\n",
    "time_steps = 3\n",
    "k = 4"
   ]
  },
  {
   "cell_type": "code",
   "execution_count": 76,
   "metadata": {},
   "outputs": [],
   "source": [
    "X = tf.placeholder(tf.float32, [batch_size, time_steps, k])\n",
    "X_output_size = int(k)\n",
    "X_batch_size = X.get_shape()[0]\n",
    "X_flattened = tf.reshape(X, [-1, k])\n",
    "selection_indices = tf.placeholder(tf.int32, [None,])\n",
    "flattened_selection_indices = tf.range(0, batch_size) * time_steps + selection_indices"
   ]
  },
  {
   "cell_type": "code",
   "execution_count": 77,
   "metadata": {
    "collapsed": true
   },
   "outputs": [],
   "source": [
    "selection = tf.gather(X_flattened, flattened_selection_indices, axis=0)"
   ]
  },
  {
   "cell_type": "code",
   "execution_count": 78,
   "metadata": {},
   "outputs": [
    {
     "data": {
      "text/plain": [
       "<tf.Tensor 'Placeholder_21:0' shape=(5, 3, 4) dtype=float32>"
      ]
     },
     "execution_count": 78,
     "metadata": {},
     "output_type": "execute_result"
    }
   ],
   "source": [
    "X"
   ]
  },
  {
   "cell_type": "code",
   "execution_count": 79,
   "metadata": {},
   "outputs": [
    {
     "data": {
      "text/plain": [
       "<tf.Tensor 'Reshape_8:0' shape=(15, 4) dtype=float32>"
      ]
     },
     "execution_count": 79,
     "metadata": {},
     "output_type": "execute_result"
    }
   ],
   "source": [
    "X_flattened"
   ]
  },
  {
   "cell_type": "code",
   "execution_count": 80,
   "metadata": {},
   "outputs": [
    {
     "data": {
      "text/plain": [
       "<tf.Tensor 'Gather_2:0' shape=(5, 4) dtype=float32>"
      ]
     },
     "execution_count": 80,
     "metadata": {},
     "output_type": "execute_result"
    }
   ],
   "source": [
    "selection"
   ]
  },
  {
   "cell_type": "code",
   "execution_count": 81,
   "metadata": {},
   "outputs": [
    {
     "data": {
      "text/plain": [
       "array([[[ 0.79958975,  0.04464632,  0.08849371,  0.87835395],\n",
       "        [ 0.80319917,  0.24316388,  0.15327922,  0.18373381],\n",
       "        [ 0.7893191 ,  0.05568036,  0.26829067,  0.59789759]],\n",
       "\n",
       "       [[ 0.8512516 ,  0.12393252,  0.45251042,  0.62429982],\n",
       "        [ 0.44793329,  0.36718974,  0.75134903,  0.25594243],\n",
       "        [ 0.59193766,  0.21244124,  0.42044288,  0.79898679]],\n",
       "\n",
       "       [[ 0.87896442,  0.39654842,  0.5050087 ,  0.6789363 ],\n",
       "        [ 0.16767943,  0.78050047,  0.81229246,  0.04635869],\n",
       "        [ 0.0377044 ,  0.37618402,  0.43867671,  0.26192546]],\n",
       "\n",
       "       [[ 0.06118996,  0.88865322,  0.97053295,  0.44828236],\n",
       "        [ 0.64886379,  0.77903336,  0.00388553,  0.4894155 ],\n",
       "        [ 0.10664324,  0.25346676,  0.83599156,  0.95961893]],\n",
       "\n",
       "       [[ 0.79824281,  0.75885653,  0.02351428,  0.29025006],\n",
       "        [ 0.90880919,  0.99687147,  0.30702126,  0.52609718],\n",
       "        [ 0.43593967,  0.96661997,  0.80834734,  0.74272126]]], dtype=float32)"
      ]
     },
     "execution_count": 81,
     "metadata": {},
     "output_type": "execute_result"
    }
   ],
   "source": [
    "A = np.random.rand(batch_size, time_steps, k).astype(np.float32)\n",
    "A"
   ]
  },
  {
   "cell_type": "code",
   "execution_count": 82,
   "metadata": {
    "collapsed": true
   },
   "outputs": [],
   "source": [
    "B = np.array([0, 0, 2, 1, 0], dtype=np.int32)"
   ]
  },
  {
   "cell_type": "code",
   "execution_count": 83,
   "metadata": {
    "scrolled": true
   },
   "outputs": [
    {
     "name": "stdout",
     "output_type": "stream",
     "text": [
      "(5, 4)\n",
      "[[ 0.79958975  0.04464632  0.08849371  0.87835395]\n",
      " [ 0.8512516   0.12393252  0.45251042  0.62429982]\n",
      " [ 0.0377044   0.37618402  0.43867671  0.26192546]\n",
      " [ 0.64886379  0.77903336  0.00388553  0.4894155 ]\n",
      " [ 0.79824281  0.75885653  0.02351428  0.29025006]]\n"
     ]
    }
   ],
   "source": [
    "C = sess.run(selection, feed_dict={X: A, selection_indices: B})\n",
    "print(C.shape)\n",
    "print(C)"
   ]
  },
  {
   "cell_type": "code",
   "execution_count": null,
   "metadata": {
    "collapsed": true
   },
   "outputs": [],
   "source": []
  }
 ],
 "metadata": {
  "kernelspec": {
   "display_name": "Python 2",
   "language": "python",
   "name": "python2"
  },
  "language_info": {
   "codemirror_mode": {
    "name": "ipython",
    "version": 2
   },
   "file_extension": ".py",
   "mimetype": "text/x-python",
   "name": "python",
   "nbconvert_exporter": "python",
   "pygments_lexer": "ipython2",
   "version": "2.7.13"
  }
 },
 "nbformat": 4,
 "nbformat_minor": 2
}
