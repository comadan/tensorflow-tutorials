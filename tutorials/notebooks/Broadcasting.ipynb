{
 "cells": [
  {
   "cell_type": "code",
   "execution_count": 1,
   "metadata": {
    "collapsed": true
   },
   "outputs": [],
   "source": [
    "import tensorflow as tf\n",
    "import numpy as np"
   ]
  },
  {
   "cell_type": "code",
   "execution_count": 2,
   "metadata": {
    "collapsed": true
   },
   "outputs": [],
   "source": [
    "inner = np.random.rand(3, 4)\n",
    "outer = np.random.rand(3, 5, 4)"
   ]
  },
  {
   "cell_type": "code",
   "execution_count": 3,
   "metadata": {
    "collapsed": true
   },
   "outputs": [],
   "source": [
    "sess = tf.InteractiveSession()"
   ]
  },
  {
   "cell_type": "code",
   "execution_count": 6,
   "metadata": {},
   "outputs": [],
   "source": [
    "A = tf.placeholder(tf.float32, shape=(None, None))\n",
    "A_reshaped = tf.expand_dims(A, axis=1)\n",
    "B = tf.placeholder(tf.float32, shape=(None, None, None))\n",
    "C = A_reshaped * B"
   ]
  },
  {
   "cell_type": "code",
   "execution_count": 7,
   "metadata": {
    "scrolled": true
   },
   "outputs": [
    {
     "data": {
      "text/plain": [
       "array([[[ 0.02632512,  0.31042215,  0.40166715,  0.29144788],\n",
       "        [ 0.26685286,  0.32167277,  0.28485429,  0.37508652],\n",
       "        [ 0.04270384,  0.01766221,  0.00760878,  0.2844997 ],\n",
       "        [ 0.08648908,  0.11468261,  0.12833096,  0.11693589],\n",
       "        [ 0.22088882,  0.01066616,  0.92016071,  0.0530731 ]],\n",
       "\n",
       "       [[ 0.61895496,  0.9009679 ,  0.75455433,  0.15401414],\n",
       "        [ 0.13631888,  0.39224622,  0.35800478,  0.72604454],\n",
       "        [ 0.51447785,  0.90398669,  0.15601841,  0.41070762],\n",
       "        [ 0.64087641,  0.31422091,  0.37330937,  0.27828962],\n",
       "        [ 0.63445848,  0.46771461,  0.55397689,  0.09343316]],\n",
       "\n",
       "       [[ 0.69824243,  0.10444904,  0.16621386,  0.373808  ],\n",
       "        [ 0.04521753,  0.17418276,  0.22135565,  0.60527605],\n",
       "        [ 0.49226829,  0.13283443,  0.07978116,  0.59040445],\n",
       "        [ 0.15245897,  0.14383407,  0.04691598,  0.17604999],\n",
       "        [ 0.27686387,  0.40543035,  0.16511321,  0.12948008]]], dtype=float32)"
      ]
     },
     "execution_count": 7,
     "metadata": {},
     "output_type": "execute_result"
    }
   ],
   "source": [
    "sess.run(C, feed_dict={A: inner, B:outer})"
   ]
  },
  {
   "cell_type": "code",
   "execution_count": 11,
   "metadata": {
    "scrolled": true
   },
   "outputs": [
    {
     "data": {
      "text/plain": [
       "array([[[ 0.34734982,  0.34550944,  0.94200301,  0.40313378]],\n",
       "\n",
       "       [[ 0.82137477,  0.97906315,  0.9977476 ,  0.74819916]],\n",
       "\n",
       "       [[ 0.75254959,  0.42338517,  0.29149452,  0.63182867]]], dtype=float32)"
      ]
     },
     "execution_count": 11,
     "metadata": {},
     "output_type": "execute_result"
    }
   ],
   "source": [
    "sess.run(A_reshaped, feed_dict={A: inner})"
   ]
  },
  {
   "cell_type": "code",
   "execution_count": 8,
   "metadata": {},
   "outputs": [
    {
     "data": {
      "text/plain": [
       "array([[ 0.34734981,  0.34550944,  0.94200303,  0.40313378],\n",
       "       [ 0.82137474,  0.97906314,  0.99774761,  0.74819919],\n",
       "       [ 0.75254959,  0.42338518,  0.29149452,  0.63182864]])"
      ]
     },
     "execution_count": 8,
     "metadata": {},
     "output_type": "execute_result"
    }
   ],
   "source": [
    "inner"
   ]
  },
  {
   "cell_type": "code",
   "execution_count": 9,
   "metadata": {},
   "outputs": [
    {
     "data": {
      "text/plain": [
       "array([[[ 0.0757885 ,  0.89844766,  0.42639687,  0.72295574],\n",
       "        [ 0.76825386,  0.93101006,  0.30239211,  0.93042688],\n",
       "        [ 0.12294189,  0.05111932,  0.00807724,  0.70572028],\n",
       "        [ 0.24899704,  0.33192321,  0.13623201,  0.29006718],\n",
       "        [ 0.63592611,  0.03087081,  0.97681288,  0.13165135]],\n",
       "\n",
       "       [[ 0.75355977,  0.9202347 ,  0.75625771,  0.20584644],\n",
       "        [ 0.16596429,  0.40063422,  0.35881295,  0.97038935],\n",
       "        [ 0.62636185,  0.92331808,  0.15637062,  0.54892821],\n",
       "        [ 0.78024846,  0.32094038,  0.37415213,  0.3719459 ],\n",
       "        [ 0.77243483,  0.47771647,  0.55522747,  0.1248774 ]],\n",
       "\n",
       "       [[ 0.92783574,  0.2466998 ,  0.57021261,  0.5916287 ],\n",
       "        [ 0.06008579,  0.41140493,  0.7593818 ,  0.95797498],\n",
       "        [ 0.65413403,  0.31374371,  0.27369697,  0.93443759],\n",
       "        [ 0.20258993,  0.33972391,  0.16094978,  0.27863566],\n",
       "        [ 0.36790118,  0.95759216,  0.56643678,  0.2049291 ]]])"
      ]
     },
     "execution_count": 9,
     "metadata": {},
     "output_type": "execute_result"
    }
   ],
   "source": [
    "outer"
   ]
  },
  {
   "cell_type": "code",
   "execution_count": 10,
   "metadata": {},
   "outputs": [
    {
     "data": {
      "text/plain": [
       "array([ 0.02632512,  0.31042215,  0.40166714,  0.29144788])"
      ]
     },
     "execution_count": 10,
     "metadata": {},
     "output_type": "execute_result"
    }
   ],
   "source": [
    "inner[0, :] * outer[0, 0, :]"
   ]
  },
  {
   "cell_type": "code",
   "execution_count": 12,
   "metadata": {},
   "outputs": [
    {
     "data": {
      "text/plain": [
       "array([ 0.26685283,  0.32167277,  0.28485428,  0.37508651])"
      ]
     },
     "execution_count": 12,
     "metadata": {},
     "output_type": "execute_result"
    }
   ],
   "source": [
    "inner[0, :] * outer[0, 1, :]"
   ]
  },
  {
   "cell_type": "code",
   "execution_count": null,
   "metadata": {
    "collapsed": true
   },
   "outputs": [],
   "source": []
  }
 ],
 "metadata": {
  "kernelspec": {
   "display_name": "Python 2",
   "language": "python",
   "name": "python2"
  },
  "language_info": {
   "codemirror_mode": {
    "name": "ipython",
    "version": 2
   },
   "file_extension": ".py",
   "mimetype": "text/x-python",
   "name": "python",
   "nbconvert_exporter": "python",
   "pygments_lexer": "ipython2",
   "version": "2.7.13"
  }
 },
 "nbformat": 4,
 "nbformat_minor": 2
}
