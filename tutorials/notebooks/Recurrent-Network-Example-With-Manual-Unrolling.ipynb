{
 "cells": [
  {
   "cell_type": "markdown",
   "metadata": {},
   "source": [
    "## Model Example\n",
    "This notebook demonstrates a model with a recurrent neural network. It uses manual unrolling of the recurrent connections."
   ]
  },
  {
   "cell_type": "code",
   "execution_count": 1,
   "metadata": {
    "collapsed": true
   },
   "outputs": [],
   "source": [
    "import tensorflow as tf\n",
    "import numpy as np"
   ]
  },
  {
   "cell_type": "markdown",
   "metadata": {},
   "source": [
    "### Model Class\n",
    "\n",
    "We can use classes to encapsulate tensorflow models. The below skeleton shows one way of using classes with tensorflow.\n",
    "\n",
    "The Model class has methods, variables, and properties that capture both the graph and the tensorflow session\n",
    "\n",
    "#### Tensorflow Graph\n",
    "\n",
    "A tensorflow graph is a computational graph of different tensorflow operations. It defines the computation and how different operations and tensors relate, but it doesn't actually do the computation or store the values of the variables. All of that magic happens within the tensorflow session.\n",
    "\n",
    "#### Tensorflow Session\n",
    "\n",
    "A tensorflow session is the context where values for tensorflow variables are instantiated and computations are run. So if you are saving a model's weights, you are actually saving the weights of the tensorflow session. If you are loading a model's weights, you need to load them into a session. When variables are initialized, that has to happen within a session. In a way, the graph is stateless. State is stored in sessions. The session also takes care of running computations, so if you are running training, those need to be run in the session.\n",
    "\n",
    "A session is instantiated with a graph, typically the current default graph. A session is only able to run computations on the graph that is tied to the session."
   ]
  },
  {
   "cell_type": "code",
   "execution_count": 2,
   "metadata": {
    "collapsed": true
   },
   "outputs": [],
   "source": [
    "class DeepLearningModel():\n",
    "    def __init__():\n",
    "        return\n",
    "    \n",
    "    def gen_uniform_random_weights(self, k_out, k_in, scale, dtype=np.float32):\n",
    "        \"\"\"\n",
    "        Returns weights of shape (k_in, k_out) initialized between [-scale, scale]\n",
    "        \"\"\"\n",
    "        return ((np.random.rand(k_in, k_out) * 2 - 1) * scale).astype(dtype)\n",
    "\n",
    "    def gen_random_weights_tanh(self, k_out, k_in, dtype=np.float32):\n",
    "        scale = (6. / (k_in + k_out)) ** .5\n",
    "        return self.gen_uniform_random_weights(k_out, k_in, scale, dtype=dtype)\n",
    "\n",
    "    def gen_random_weights_sigmoid(self, k_out, k_in, dtype=np.float32):\n",
    "        scale = 4. * (6. / (k_in + k_out)) ** .5\n",
    "        return self.gen_uniform_random_weights(k_out, k_in, scale, dtype=dtype)\n",
    "\n",
    "    def gen_random_weights_reLu(self, k_out, k_in, dtype=np.float32):\n",
    "        scale = (2. / (k_in + k_out)) ** .5\n",
    "        return self.gen_uniform_random_weights(k_out, k_in, scale, dtype=dtype)\n",
    "\n",
    "    def gen_biases(self, k, dtype=np.float32):\n",
    "        \"\"\"\n",
    "        Initialize biases as zero.\n",
    "        \"\"\"\n",
    "        return np.zeros((k, ), dtype=dtype)\n",
    "    \n",
    "    def clip_gradient(self, grad, magnitude=1.0):\n",
    "        \"\"\"returns a clipped gradient, where it is between [-magnitude and magnitude]\"\"\"\n",
    "        magnitude = abs(magnitude)\n",
    "        return tf.maximum(tf.minimum(grad, magnitude), - magnitude)"
   ]
  },
  {
   "cell_type": "code",
   "execution_count": 3,
   "metadata": {
    "collapsed": true
   },
   "outputs": [],
   "source": [
    "class RecurrentNetworkModel(DeepLearningModel):\n",
    "    \"\"\"\n",
    "    Tutorial Model\n",
    "    \"\"\"\n",
    "    \n",
    "    def __init__(self, num_layers, k_rnncell, k_input_embedding, number_data_embeddings, time_steps):\n",
    "        \"\"\"\n",
    "        args:\n",
    "            num_layers: number of hidden layers\n",
    "            k_hidden: number of units in the hidden layers\n",
    "            k_input_embedding: dimensionality of the input\n",
    "            k_softmax: dimensionality of the output layer\n",
    "        \"\"\"\n",
    "        self._graph = None\n",
    "        self._session = None\n",
    "        self.num_layers = num_layers\n",
    "        self.k_rnncell = k_rnncell\n",
    "        self.k_input_embedding = k_input_embedding\n",
    "        self.time_steps = time_steps\n",
    "        self.number_data_embeddings = number_data_embeddings\n",
    "        \n",
    "        self._merged_training_summary = None\n",
    "        self._merged_validation_summary = None\n",
    "    \n",
    "    \n",
    "    def load_model(self, model_filename):\n",
    "        with self.graph.as_default():\n",
    "            model_saver = tf.train.Saver()\n",
    "        \n",
    "        self._session = tf.Session(graph=self.graph)\n",
    "        model_saver.restore(self._session, model_filename)\n",
    "        return\n",
    "    \n",
    "    \n",
    "    def save_model(self, model_filename):\n",
    "        with self.graph.as_default():\n",
    "            model_saver = tf.train.Saver()\n",
    "            \n",
    "        model_saver.save(self.session, model_filename)\n",
    "        \n",
    "    def create_graph(self):\n",
    "        self.cells = {}\n",
    "        self.W = {}\n",
    "        self.U = {}\n",
    "        self.b = {}\n",
    "        self.Z = {}\n",
    "        self.A = {}\n",
    "        self.A_initial = {}\n",
    "        self.Z_series = {}\n",
    "        self.A_series = {}\n",
    "        \n",
    "        self._graph = tf.Graph()\n",
    "        \n",
    "        with self._graph.as_default():\n",
    "            with tf.name_scope(\"inputs\"):\n",
    "                self.X = tf.placeholder(tf.int32, shape=(None, self.time_steps))\n",
    "            \n",
    "            with tf.name_scope(\"embeddings\"):\n",
    "                self.data_embeddings = tf.Variable(np.random.rand(self.number_data_embeddings, self.k_input_embedding).astype(np.float32), dtype=tf.float32, name=\"data_embeddings\")\n",
    "                self.data_embedding_lookup = tf.nn.embedding_lookup(self.data_embeddings, self.X)\n",
    "                self.A_series[0] = tf.unstack(self.data_embedding_lookup, axis = 1)\n",
    "            \n",
    "            with tf.name_scope(\"recurrent_layers\"):\n",
    "                for layer in range(1, num_layers + 1):\n",
    "                    if layer == 1:\n",
    "                        self.W[(layer, layer - 1)] = tf.Variable(self.gen_random_weights_tanh(self.k_rnncell, self.k_input_embedding), dtype=tf.float32, name=\"W_%i_%i\" % (layer, layer - 1))\n",
    "                    else:\n",
    "                        self.W[(layer, layer - 1)] = tf.Variable(self.gen_random_weights_tanh(self.k_rnncell, self.k_rnncell), dtype=tf.float32, name=\"W_%i_%i\" % (layer, layer - 1))\n",
    "                    \n",
    "                    self.U[layer] = tf.Variable(self.gen_random_weights_tanh(self.k_rnncell, self.k_rnncell), dtype=tf.float32, name=\"U_%i\" % layer)\n",
    "                    self.b[layer] = tf.Variable(self.gen_biases(self.k_rnncell), dtype=tf.float32, name=\"b_%i\" % layer)\n",
    "                    \n",
    "                    self.Z_series[layer] = []\n",
    "                    self.A_series[layer] = []\n",
    "                    self.A_initial[layer] = tf.placeholder(tf.float32, shape=(None, self.k_rnncell), name=\"A%i_initial\" % layer)\n",
    "                    \n",
    "                    for t, X in enumerate(self.A_series[layer - 1]):\n",
    "                        Z = tf.add(tf.matmul(X, self.W[(layer, layer - 1)]), self.b[layer])\n",
    "                        if t == 0:\n",
    "                            Z = tf.add(Z, tf.matmul(self.A_initial[layer], self.U[layer]), name=\"Z%i_t%i\" % (layer, t))\n",
    "                        else:\n",
    "                            Z = tf.add(Z, tf.matmul(self.A_series[layer][t-1], self.U[layer]), name=\"Z%i_t%i\" % (layer, t))\n",
    "                        A = tf.nn.tanh(Z, name=\"A%i_t%i\" % (layer, t))\n",
    "                        self.Z_series[layer].append(Z)\n",
    "                        self.A_series[layer].append(A)\n",
    "                \n",
    "                    self.Z[layer] = tf.stack(self.Z_series[layer], axis=1)\n",
    "                    self.A[layer] = tf.stack(self.A_series[layer], axis=1)\n",
    "                \n",
    "            self.init_op = tf.global_variables_initializer()\n",
    "        return\n",
    "            \n",
    "\n",
    "    def write_graph(self):\n",
    "        self.tensorboard_writer.add_graph(self.graph)\n",
    "        return\n",
    "    \n",
    "    def init_model(self, adam_beta1=0.9, adam_beta2=0.999):\n",
    "        self.session.run(self.init_op)\n",
    "    \n",
    "    @property\n",
    "    def graph(self):\n",
    "        if self._graph is None:\n",
    "            self.create_graph()\n",
    "        return self._graph\n",
    "    \n",
    "    @property\n",
    "    def session(self):\n",
    "        if self._session is None:\n",
    "            self._session = tf.Session(graph=self.graph)\n",
    "        return self._session"
   ]
  },
  {
   "cell_type": "code",
   "execution_count": 17,
   "metadata": {
    "collapsed": true
   },
   "outputs": [],
   "source": [
    "minibatch_size = 4\n",
    "num_layers = 2\n",
    "k_rnncell = 7\n",
    "k_input_embedding = 12\n",
    "number_data_embeddings = 100\n",
    "time_steps = 10"
   ]
  },
  {
   "cell_type": "code",
   "execution_count": 5,
   "metadata": {
    "collapsed": true,
    "scrolled": true
   },
   "outputs": [],
   "source": [
    "# create a model instance with 2 hidden layers and 10 hidden units.\n",
    "\n",
    "model_a = RecurrentNetworkModel(num_layers,  k_rnncell, k_input_embedding, number_data_embeddings, time_steps)"
   ]
  },
  {
   "cell_type": "code",
   "execution_count": 6,
   "metadata": {},
   "outputs": [
    {
     "data": {
      "text/plain": [
       "<tensorflow.python.framework.ops.Graph at 0x114f64710>"
      ]
     },
     "execution_count": 6,
     "metadata": {},
     "output_type": "execute_result"
    }
   ],
   "source": [
    "model_a.graph"
   ]
  },
  {
   "cell_type": "code",
   "execution_count": 7,
   "metadata": {},
   "outputs": [
    {
     "data": {
      "text/plain": [
       "<tf.Tensor 'embeddings/embedding_lookup:0' shape=(?, 10, 12) dtype=float32>"
      ]
     },
     "execution_count": 7,
     "metadata": {},
     "output_type": "execute_result"
    }
   ],
   "source": [
    "model_a.data_embedding_lookup"
   ]
  },
  {
   "cell_type": "code",
   "execution_count": 8,
   "metadata": {},
   "outputs": [
    {
     "data": {
      "text/plain": [
       "<tf.Tensor 'embeddings/embedding_lookup:0' shape=(?, 10, 12) dtype=float32>"
      ]
     },
     "execution_count": 8,
     "metadata": {},
     "output_type": "execute_result"
    }
   ],
   "source": [
    "model_a.data_embedding_lookup"
   ]
  },
  {
   "cell_type": "code",
   "execution_count": 9,
   "metadata": {
    "collapsed": true
   },
   "outputs": [],
   "source": [
    "model_a.init_model()"
   ]
  },
  {
   "cell_type": "code",
   "execution_count": 10,
   "metadata": {},
   "outputs": [
    {
     "data": {
      "text/plain": [
       "TensorShape([Dimension(None), Dimension(10), Dimension(12)])"
      ]
     },
     "execution_count": 10,
     "metadata": {},
     "output_type": "execute_result"
    }
   ],
   "source": [
    "model_a.data_embedding_lookup.get_shape()"
   ]
  },
  {
   "cell_type": "code",
   "execution_count": 11,
   "metadata": {},
   "outputs": [
    {
     "data": {
      "text/plain": [
       "array([[  2.23273933e-01,   1.18024603e-01,   1.26306370e-01, ...,\n",
       "          6.58715516e-02,   3.10788095e-01,   4.05555546e-01],\n",
       "       [  2.84150183e-01,   3.31155390e-01,   4.59628224e-01, ...,\n",
       "          8.67651165e-01,   4.93068516e-01,   6.49731278e-01],\n",
       "       [  3.47267777e-01,   9.88703310e-01,   5.08674920e-01, ...,\n",
       "          1.97113469e-01,   9.73267794e-01,   1.16282761e-01],\n",
       "       ..., \n",
       "       [  2.77832031e-01,   6.67628050e-01,   2.48437300e-01, ...,\n",
       "          5.29849887e-01,   9.81992960e-01,   8.52635950e-02],\n",
       "       [  8.81436586e-01,   8.95896554e-01,   9.86733556e-01, ...,\n",
       "          3.82750732e-04,   9.67845559e-01,   5.98244667e-01],\n",
       "       [  5.37714481e-01,   6.66888431e-02,   9.68286932e-01, ...,\n",
       "          4.85483497e-01,   3.28924477e-01,   2.23316774e-01]], dtype=float32)"
      ]
     },
     "execution_count": 11,
     "metadata": {},
     "output_type": "execute_result"
    }
   ],
   "source": [
    "model_a.session.run(model_a.data_embeddings)"
   ]
  },
  {
   "cell_type": "code",
   "execution_count": 12,
   "metadata": {
    "collapsed": true
   },
   "outputs": [],
   "source": [
    "data = np.random.randint(0, number_data_embeddings, size=(minibatch_size, time_steps))"
   ]
  },
  {
   "cell_type": "code",
   "execution_count": 18,
   "metadata": {
    "collapsed": true
   },
   "outputs": [],
   "source": [
    "A1_initial = np.zeros((minibatch_size, k_rnncell), dtype=np.float32)\n",
    "A2_initial = np.zeros((minibatch_size, k_rnncell), dtype=np.float32)"
   ]
  },
  {
   "cell_type": "code",
   "execution_count": 19,
   "metadata": {},
   "outputs": [
    {
     "data": {
      "text/plain": [
       "(4, 10, 12)"
      ]
     },
     "execution_count": 19,
     "metadata": {},
     "output_type": "execute_result"
    }
   ],
   "source": [
    "model_a.session.run(model_a.data_embedding_lookup,\n",
    "                    feed_dict={model_a.X: data}).shape"
   ]
  },
  {
   "cell_type": "code",
   "execution_count": 20,
   "metadata": {},
   "outputs": [
    {
     "data": {
      "text/plain": [
       "(4, 10, 7)"
      ]
     },
     "execution_count": 20,
     "metadata": {},
     "output_type": "execute_result"
    }
   ],
   "source": [
    "model_a.session.run(model_a.Z[1],\n",
    "                    feed_dict={model_a.X: data,\n",
    "                              model_a.A_initial[1]: A1_initial,\n",
    "                              model_a.A_initial[2]: A2_initial}).shape"
   ]
  },
  {
   "cell_type": "code",
   "execution_count": 23,
   "metadata": {
    "scrolled": true
   },
   "outputs": [
    {
     "data": {
      "text/plain": [
       "(4, 10, 7)"
      ]
     },
     "execution_count": 23,
     "metadata": {},
     "output_type": "execute_result"
    }
   ],
   "source": [
    "model_a.session.run(model_a.Z[2],\n",
    "                    feed_dict={model_a.X: data,\n",
    "                              model_a.A_initial[1]: A1_initial,\n",
    "                              model_a.A_initial[2]: A2_initial}).shape"
   ]
  },
  {
   "cell_type": "code",
   "execution_count": 24,
   "metadata": {},
   "outputs": [
    {
     "name": "stdout",
     "output_type": "stream",
     "text": [
      "CPU times: user 10.4 ms, sys: 1.23 ms, total: 11.6 ms\n",
      "Wall time: 9.9 ms\n"
     ]
    },
    {
     "data": {
      "text/plain": [
       "(4, 10, 7)"
      ]
     },
     "execution_count": 24,
     "metadata": {},
     "output_type": "execute_result"
    }
   ],
   "source": [
    "%%time\n",
    "model_a.session.run(model_a.A[2],\n",
    "                    feed_dict={model_a.X: data,\n",
    "                              model_a.A_initial[1]: A1_initial,\n",
    "                              model_a.A_initial[2]: A2_initial}).shape"
   ]
  },
  {
   "cell_type": "code",
   "execution_count": 45,
   "metadata": {
    "scrolled": true
   },
   "outputs": [
    {
     "name": "stdout",
     "output_type": "stream",
     "text": [
      "CPU times: user 5.31 ms, sys: 1.05 ms, total: 6.36 ms\n",
      "Wall time: 2.23 ms\n"
     ]
    },
    {
     "data": {
      "text/plain": [
       "array([[[  2.38828242e-01,   1.64421603e-01,  -4.21284944e-01, ...,\n",
       "           4.73785520e-01,   1.45027801e-01,  -6.33360207e-01],\n",
       "        [  6.17669940e-01,  -1.13969566e-02,   1.12746105e-01, ...,\n",
       "           2.06384912e-01,   3.83218862e-02,  -1.79678991e-01],\n",
       "        [  3.26760530e-01,  -5.75415373e-01,   7.78281569e-01, ...,\n",
       "           5.69413006e-01,  -2.63058037e-01,  -4.00189608e-01],\n",
       "        ..., \n",
       "        [  4.48622257e-01,   1.89298496e-01,   3.41163486e-01, ...,\n",
       "          -4.43991572e-01,   7.30797946e-01,  -5.44195175e-01],\n",
       "        [ -3.49161476e-01,  -6.88485980e-01,   4.06309925e-02, ...,\n",
       "           2.25180626e-01,   2.43149146e-01,  -3.81700516e-01],\n",
       "        [ -7.56358564e-01,  -3.68954450e-01,  -5.10366261e-02, ...,\n",
       "          -5.89900196e-01,   3.74844611e-01,   3.34033251e-01]],\n",
       "\n",
       "       [[  7.78789520e-01,   1.17408812e-01,  -4.52179760e-02, ...,\n",
       "           3.93389165e-01,   3.39728296e-01,  -7.11556852e-01],\n",
       "        [  7.45175183e-01,   4.44641471e-01,  -3.55250873e-02, ...,\n",
       "           8.16208422e-01,   1.04653202e-01,  -6.64383233e-01],\n",
       "        [  5.55285811e-01,  -5.60279906e-01,   5.37680864e-01, ...,\n",
       "           7.42120862e-01,  -2.72341430e-01,   7.90246278e-02],\n",
       "        ..., \n",
       "        [  6.34497762e-01,  -3.56475443e-01,  -2.16694757e-01, ...,\n",
       "           1.07918091e-01,   8.59412849e-01,   3.21318835e-01],\n",
       "        [ -4.70557213e-01,   3.71030003e-01,   5.40428936e-01, ...,\n",
       "           3.53785545e-01,   1.95513353e-01,  -8.59856904e-01],\n",
       "        [  8.01434338e-01,  -7.17690587e-01,  -3.93439680e-01, ...,\n",
       "          -1.38431564e-01,   1.55379042e-01,   1.84578806e-01]],\n",
       "\n",
       "       [[  8.29602301e-01,   5.55429347e-02,   1.76591083e-01, ...,\n",
       "           3.18918973e-01,   6.61356032e-01,  -5.25210202e-01],\n",
       "        [  6.97240174e-01,   8.70193541e-01,  -5.99301219e-01, ...,\n",
       "           2.94867396e-01,  -8.50962639e-01,  -6.47035837e-01],\n",
       "        [  5.66497445e-01,  -5.85573733e-01,   1.55393362e-01, ...,\n",
       "           9.32091415e-01,  -6.79990768e-01,   5.85674085e-02],\n",
       "        ..., \n",
       "        [ -8.17388952e-01,  -3.60025555e-01,   6.75078690e-01, ...,\n",
       "          -2.78766453e-01,   7.18612611e-01,   1.00917533e-01],\n",
       "        [ -2.24420279e-01,  -4.16128695e-01,  -5.60108840e-01, ...,\n",
       "          -5.98859072e-01,   5.90319037e-01,  -7.17239797e-01],\n",
       "        [ -4.98300076e-01,  -2.50633210e-01,  -2.52386868e-01, ...,\n",
       "          -7.02287495e-01,   7.86703646e-01,  -6.03859173e-03]],\n",
       "\n",
       "       ..., \n",
       "       [[  7.39675224e-01,   5.21720052e-01,  -4.64776814e-01, ...,\n",
       "           1.89826161e-01,  -1.26510903e-01,  -6.73488200e-01],\n",
       "        [  6.57901406e-01,  -4.99642342e-02,   9.46455076e-02, ...,\n",
       "           5.88291764e-01,  -6.37168765e-01,  -1.89085469e-01],\n",
       "        [ -2.67428458e-01,  -7.25916266e-01,   7.98139155e-01, ...,\n",
       "           8.13359499e-01,  -5.55181026e-01,  -4.30482477e-02],\n",
       "        ..., \n",
       "        [  8.36690009e-01,  -1.96238920e-01,  -4.19030845e-01, ...,\n",
       "          -4.09824550e-01,   4.46855694e-01,  -2.93619066e-01],\n",
       "        [ -9.33339238e-01,  -5.90259314e-01,   6.65020227e-01, ...,\n",
       "          -1.74400821e-01,   1.76204041e-01,   3.92690957e-01],\n",
       "        [ -6.66112721e-01,  -7.78214514e-01,  -8.13729465e-02, ...,\n",
       "          -7.40483552e-02,   8.03706348e-01,  -6.09159172e-01]],\n",
       "\n",
       "       [[  7.66771436e-01,   3.12108815e-01,  -2.48433888e-01, ...,\n",
       "           4.63439785e-02,  -1.48450121e-01,  -6.59183204e-01],\n",
       "        [  2.14130357e-01,   1.41920686e-01,  -2.83950150e-01, ...,\n",
       "           8.91327262e-01,  -5.15937030e-01,  -6.58228636e-01],\n",
       "        [  8.82531762e-01,  -5.25678247e-02,   3.02363485e-01, ...,\n",
       "           6.17667258e-01,  -3.36889178e-01,   5.05483449e-02],\n",
       "        ..., \n",
       "        [  3.37456673e-01,   1.41078189e-01,  -1.08759165e-01, ...,\n",
       "           2.86888063e-01,  -2.82966048e-01,  -5.49560905e-01],\n",
       "        [  5.00110686e-01,  -6.85933173e-01,   6.17469549e-01, ...,\n",
       "           6.55739248e-01,   5.10757148e-01,   4.29219931e-01],\n",
       "        [ -7.67876387e-01,   7.73916468e-02,   4.64408696e-01, ...,\n",
       "           7.53576040e-01,   2.42827907e-01,  -6.75530851e-01]],\n",
       "\n",
       "       [[  7.63664246e-01,   1.14555299e-01,  -1.43423378e-02, ...,\n",
       "           4.95938778e-01,   5.07951856e-01,  -6.80243254e-01],\n",
       "        [  9.31474805e-01,   7.84109414e-01,  -2.60167718e-01, ...,\n",
       "           6.59505725e-01,  -5.89984179e-01,  -7.80122340e-01],\n",
       "        [  8.10121059e-01,   1.84024647e-01,  -2.95807779e-01, ...,\n",
       "           9.53894317e-01,  -8.85915220e-01,  -3.37021410e-01],\n",
       "        ..., \n",
       "        [  8.22632492e-01,  -2.89775103e-01,   5.12902141e-02, ...,\n",
       "          -1.58380806e-01,   2.06962511e-01,  -8.98465165e-04],\n",
       "        [ -7.13610411e-01,  -5.73373735e-01,   7.53407598e-01, ...,\n",
       "           5.02288520e-01,   1.73970014e-02,  -4.59684908e-01],\n",
       "        [ -3.04842889e-01,  -6.92565918e-01,  -1.92440823e-01, ...,\n",
       "           7.94750229e-02,   5.95977724e-01,   3.51928294e-01]]], dtype=float32)"
      ]
     },
     "execution_count": 45,
     "metadata": {},
     "output_type": "execute_result"
    }
   ],
   "source": [
    "%%time\n",
    "model_a.session.run(model_a.A[2],\n",
    "                    feed_dict={model_a.X: data,\n",
    "                              model_a.A_initial[1]: A1_initial,\n",
    "                              model_a.A_initial[2]: A2_initial})"
   ]
  },
  {
   "cell_type": "markdown",
   "metadata": {},
   "source": [
    "---\n",
    "changing the initial state changes the hidden activations."
   ]
  },
  {
   "cell_type": "code",
   "execution_count": 48,
   "metadata": {},
   "outputs": [],
   "source": [
    "A1_initial = np.random.rand(minibatch_size, k_rnncell).astype(np.float32)\n",
    "A2_initial = np.random.rand(minibatch_size, k_rnncell).astype(np.float32)"
   ]
  },
  {
   "cell_type": "code",
   "execution_count": 49,
   "metadata": {
    "scrolled": true
   },
   "outputs": [
    {
     "name": "stdout",
     "output_type": "stream",
     "text": [
      "CPU times: user 5.41 ms, sys: 1.46 ms, total: 6.88 ms\n",
      "Wall time: 2.23 ms\n"
     ]
    },
    {
     "data": {
      "text/plain": [
       "array([[[  4.90554005e-01,  -2.65483409e-01,  -2.94894785e-01, ...,\n",
       "           9.20996904e-01,  -4.32067335e-01,  -4.64350432e-01],\n",
       "        [  5.78043818e-01,   2.54621208e-01,   5.29456973e-01, ...,\n",
       "           4.99930173e-01,  -2.26490363e-01,   2.74755180e-01],\n",
       "        [  6.88004017e-01,  -6.39707565e-01,   7.87295520e-01, ...,\n",
       "           8.66000414e-01,  -4.79904532e-01,  -6.52879298e-01],\n",
       "        ..., \n",
       "        [  5.84563196e-01,   9.72419530e-02,   2.95505494e-01, ...,\n",
       "          -4.71625715e-01,   7.53913522e-01,  -4.51628566e-01],\n",
       "        [ -5.15302956e-01,  -6.49502277e-01,   1.78956628e-01, ...,\n",
       "           2.47091055e-01,   2.50953227e-01,  -4.09029365e-01],\n",
       "        [ -6.86422825e-01,  -4.50241059e-01,  -1.75621718e-01, ...,\n",
       "          -6.15710676e-01,   4.17529911e-01,   3.41995299e-01]],\n",
       "\n",
       "       [[  6.29157245e-01,  -1.15184955e-01,  -5.15222433e-04, ...,\n",
       "           9.44855630e-01,  -7.47872233e-01,  -7.27635920e-01],\n",
       "        [  8.34035993e-01,   4.46208745e-01,   2.55712092e-01, ...,\n",
       "           8.92930806e-01,  -4.70946401e-01,   3.44803631e-02],\n",
       "        [  4.94294614e-01,  -6.11382067e-01,   7.27587998e-01, ...,\n",
       "           9.58228767e-01,  -3.48620683e-01,  -3.27377677e-01],\n",
       "        ..., \n",
       "        [  7.98816800e-01,  -2.17169747e-01,  -3.54558706e-01, ...,\n",
       "           1.14067189e-01,   8.73209000e-01,   1.82497099e-01],\n",
       "        [ -4.09399509e-01,   3.84289443e-01,   5.41435480e-01, ...,\n",
       "           3.91853601e-01,   4.98129539e-02,  -8.41398954e-01],\n",
       "        [  7.96441972e-01,  -7.41699219e-01,  -3.09239596e-01, ...,\n",
       "           8.00485909e-03,   5.45201115e-02,   2.27276057e-01]],\n",
       "\n",
       "       [[  4.75223839e-01,  -2.78009623e-02,  -8.98263901e-02, ...,\n",
       "           8.59106243e-01,  -3.19387078e-01,  -7.60156155e-01],\n",
       "        [  8.84565175e-01,   8.53652894e-01,  -5.30047655e-01, ...,\n",
       "           4.25317794e-01,  -9.07486618e-01,   1.16774486e-02],\n",
       "        [  5.73852777e-01,  -2.08811969e-01,   3.54775250e-01, ...,\n",
       "           9.82314646e-01,  -7.48464465e-01,  -5.71079433e-01],\n",
       "        ..., \n",
       "        [ -7.03225136e-01,  -4.12978828e-01,   6.21182740e-01, ...,\n",
       "          -1.83599770e-01,   7.70463347e-01,  -1.99012384e-02],\n",
       "        [ -2.20510170e-01,  -3.99551809e-01,  -4.77489322e-01, ...,\n",
       "          -6.23728573e-01,   6.11645639e-01,  -6.33545816e-01],\n",
       "        [ -5.05216956e-01,  -2.49183476e-01,  -2.62457192e-01, ...,\n",
       "          -6.62536025e-01,   7.82031119e-01,  -1.12497233e-01]],\n",
       "\n",
       "       ..., \n",
       "       [[  5.28791428e-01,   4.82367396e-01,  -6.43688142e-01, ...,\n",
       "           9.27634776e-01,  -8.77770603e-01,  -9.16408896e-01],\n",
       "        [  8.13886404e-01,  -4.66089398e-01,   3.89350653e-01, ...,\n",
       "           2.75265604e-01,  -8.35910082e-01,   7.89271891e-01],\n",
       "        [ -8.47604275e-01,  -6.20731294e-01,   8.93708825e-01, ...,\n",
       "           9.44962561e-01,  -4.38004106e-01,  -6.65032506e-01],\n",
       "        ..., \n",
       "        [  9.32722270e-01,  -4.23835814e-01,  -5.59046507e-01, ...,\n",
       "          -3.75539124e-01,   4.90022719e-01,  -2.24339634e-01],\n",
       "        [ -9.59918380e-01,  -4.95197326e-01,   7.62810946e-01, ...,\n",
       "          -2.94875413e-01,   3.12530100e-01,   4.45605338e-01],\n",
       "        [ -6.20674551e-01,  -7.54689157e-01,  -2.41480500e-01, ...,\n",
       "          -7.13646412e-02,   8.00391197e-01,  -7.24357188e-01]],\n",
       "\n",
       "       [[  2.35903382e-01,   4.59080309e-01,  -3.23613048e-01, ...,\n",
       "           8.25892508e-01,  -5.04074037e-01,  -9.47639465e-01],\n",
       "        [  8.04018140e-01,   6.75817728e-02,  -5.83301067e-01, ...,\n",
       "           7.97915876e-01,  -7.14506626e-01,   9.65851359e-03],\n",
       "        [  4.99934554e-01,   3.47676933e-01,   5.92954099e-01, ...,\n",
       "           9.01012123e-01,  -6.48937523e-01,  -4.62909877e-01],\n",
       "        ..., \n",
       "        [  6.74055576e-01,  -1.46699220e-01,  -3.25511456e-01, ...,\n",
       "           3.19164157e-01,  -2.92384058e-01,  -4.86597121e-01],\n",
       "        [  1.16110295e-01,  -5.65538764e-01,   8.05918455e-01, ...,\n",
       "           6.64184093e-01,   5.45395374e-01,   5.03536642e-01],\n",
       "        [ -6.25513315e-01,  -5.37176505e-02,   2.09993541e-01, ...,\n",
       "           7.14573920e-01,   3.47279608e-01,  -7.40803242e-01]],\n",
       "\n",
       "       [[  3.76004338e-01,  -3.74951065e-01,   4.10146236e-01, ...,\n",
       "           9.09179151e-01,  -1.56750008e-01,  -6.53575540e-01],\n",
       "        [  9.45494175e-01,   7.20857024e-01,  -1.38175443e-01, ...,\n",
       "           6.93809032e-01,  -5.27017355e-01,  -3.98033410e-01],\n",
       "        [  7.46911764e-01,   4.44987863e-01,  -3.78731370e-01, ...,\n",
       "           9.73938942e-01,  -9.08360004e-01,  -6.52884424e-01],\n",
       "        ..., \n",
       "        [  8.88206065e-01,  -3.56164694e-01,  -6.63156211e-02, ...,\n",
       "          -1.71356618e-01,   2.08942518e-01,   3.58753949e-02],\n",
       "        [ -7.69538641e-01,  -5.13614535e-01,   7.85518408e-01, ...,\n",
       "           4.85489130e-01,   3.93250026e-02,  -4.69798356e-01],\n",
       "        [ -2.13481799e-01,  -6.95549190e-01,  -2.72902966e-01, ...,\n",
       "           8.14241096e-02,   5.92860818e-01,   3.06905806e-01]]], dtype=float32)"
      ]
     },
     "execution_count": 49,
     "metadata": {},
     "output_type": "execute_result"
    }
   ],
   "source": [
    "%%time\n",
    "model_a.session.run(model_a.A[2],\n",
    "                    feed_dict={model_a.X: data,\n",
    "                              model_a.A_initial[1]: A1_initial,\n",
    "                              model_a.A_initial[2]: A2_initial})"
   ]
  },
  {
   "cell_type": "code",
   "execution_count": 37,
   "metadata": {
    "collapsed": true
   },
   "outputs": [],
   "source": [
    "minibatch_size = 100"
   ]
  },
  {
   "cell_type": "code",
   "execution_count": 38,
   "metadata": {
    "collapsed": true
   },
   "outputs": [],
   "source": [
    "data = np.random.randint(0, number_data_embeddings, size=(minibatch_size, time_steps))"
   ]
  },
  {
   "cell_type": "code",
   "execution_count": 39,
   "metadata": {
    "collapsed": true
   },
   "outputs": [],
   "source": [
    "A1_initial = np.zeros((minibatch_size, k_rnncell), dtype=np.float32)\n",
    "A2_initial = np.zeros((minibatch_size, k_rnncell), dtype=np.float32)"
   ]
  },
  {
   "cell_type": "code",
   "execution_count": 40,
   "metadata": {},
   "outputs": [
    {
     "name": "stdout",
     "output_type": "stream",
     "text": [
      "CPU times: user 1.93 ms, sys: 933 µs, total: 2.86 ms\n",
      "Wall time: 1.1 ms\n"
     ]
    },
    {
     "data": {
      "text/plain": [
       "(100, 10, 7)"
      ]
     },
     "execution_count": 40,
     "metadata": {},
     "output_type": "execute_result"
    }
   ],
   "source": [
    "%%time\n",
    "model_a.session.run(model_a.A[2],\n",
    "                    feed_dict={model_a.X: data,\n",
    "                              model_a.A_initial[1]: A1_initial,\n",
    "                              model_a.A_initial[2]: A2_initial}).shape"
   ]
  },
  {
   "cell_type": "code",
   "execution_count": 41,
   "metadata": {
    "collapsed": true
   },
   "outputs": [],
   "source": [
    "minibatch_size = 1000"
   ]
  },
  {
   "cell_type": "code",
   "execution_count": 42,
   "metadata": {
    "collapsed": true
   },
   "outputs": [],
   "source": [
    "data = np.random.randint(0, number_data_embeddings, size=(minibatch_size, time_steps))"
   ]
  },
  {
   "cell_type": "code",
   "execution_count": 43,
   "metadata": {
    "collapsed": true
   },
   "outputs": [],
   "source": [
    "A1_initial = np.zeros((minibatch_size, k_rnncell), dtype=np.float32)\n",
    "A2_initial = np.zeros((minibatch_size, k_rnncell), dtype=np.float32)"
   ]
  },
  {
   "cell_type": "code",
   "execution_count": 44,
   "metadata": {},
   "outputs": [
    {
     "name": "stdout",
     "output_type": "stream",
     "text": [
      "CPU times: user 5.71 ms, sys: 1.61 ms, total: 7.32 ms\n",
      "Wall time: 2.58 ms\n"
     ]
    },
    {
     "data": {
      "text/plain": [
       "(1000, 10, 7)"
      ]
     },
     "execution_count": 44,
     "metadata": {},
     "output_type": "execute_result"
    }
   ],
   "source": [
    "%%time\n",
    "model_a.session.run(model_a.A[2],\n",
    "                    feed_dict={model_a.X: data,\n",
    "                              model_a.A_initial[1]: A1_initial,\n",
    "                              model_a.A_initial[2]: A2_initial}).shape"
   ]
  },
  {
   "cell_type": "markdown",
   "metadata": {},
   "source": [
    "---\n",
    "The output above shows how to get the rnn_output, it's fairly straightforward to append an output model on the end of the final rnn_states or the rnn_outputs."
   ]
  }
 ],
 "metadata": {
  "kernelspec": {
   "display_name": "Python 2",
   "language": "python",
   "name": "python2"
  },
  "language_info": {
   "codemirror_mode": {
    "name": "ipython",
    "version": 2
   },
   "file_extension": ".py",
   "mimetype": "text/x-python",
   "name": "python",
   "nbconvert_exporter": "python",
   "pygments_lexer": "ipython2",
   "version": "2.7.13"
  }
 },
 "nbformat": 4,
 "nbformat_minor": 2
}
